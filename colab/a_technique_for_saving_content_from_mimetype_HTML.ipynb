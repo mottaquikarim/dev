{
  "nbformat": 4,
  "nbformat_minor": 0,
  "metadata": {
    "colab": {
      "name": "a_technique_for_saving_content_from_mimetype_HTML.ipynb",
      "provenance": [],
      "collapsed_sections": [],
      "authorship_tag": "ABX9TyNSoF+41VbMAAp5OoeDZbjX"
    },
    "kernelspec": {
      "name": "python3",
      "display_name": "Python 3"
    },
    "language_info": {
      "name": "python"
    }
  },
  "cells": [
    {
      "cell_type": "markdown",
      "source": [
        "---\n",
        "title: \"A technique for saving content from mimetype HTML\"\n",
        "date: 2022-01-22T22:39:04Z\n",
        "tags: [\"javascript\", \"just for fun\"]\n",
        "---\n",
        "\n",
        "{{<toc>}}\n",
        "\n",
        "OMG! I finally got it. 🙌\n",
        "\n",
        "**BLUF**\n",
        "\n",
        "🙌 Turn your chrome tab into a \"notepad\" using: `data:text/html, <html contenteditable>` (copy and paste this into your URL bar to test it out)\n",
        "\n",
        "🚨 But! If you hit back or refresh by accident, you lose your notes (this sucks)\n",
        "\n",
        "✅ Using javsacript's clipboard functionality, I came up with a solution that updates the clipboard everytime you type in to the \"notepad\". \n"
      ],
      "metadata": {
        "id": "2JcQzVh9YOpJ"
      }
    }
  ]
}