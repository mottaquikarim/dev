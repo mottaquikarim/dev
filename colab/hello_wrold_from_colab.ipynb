{
  "nbformat": 4,
  "nbformat_minor": 0,
  "metadata": {
    "colab": {
      "name": "hello_wrold_from_colab.ipynb",
      "provenance": [],
      "collapsed_sections": [],
      "authorship_tag": "ABX9TyObrwdyrWH3rHXkMxV2g2Og",
      "include_colab_link": true
    },
    "kernelspec": {
      "name": "python3",
      "display_name": "Python 3"
    }
  },
  "cells": [
    {
      "cell_type": "markdown",
      "metadata": {
        "id": "jl-X78V3agb7"
      },
      "source": [
        "---\n",
        "title: \"Hello, Wrold from Colab\"\n",
        "date: 2021-01-28T04:01:51Z\n",
        "tags: [\"meta\", \"python\", \"just for fun\"]\n",
        "---\n",
        "\n",
        "{{<toc>}}\n",
        "\n",
        "## Hello, Wrold!!!\n",
        "\n",
        "This is a post composed in Google Colab as a demonstration of feasibility that blog posts can be generated from a colab notebook."
      ]
    }
  ]
}