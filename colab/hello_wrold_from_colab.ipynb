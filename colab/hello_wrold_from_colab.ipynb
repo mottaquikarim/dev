{
  "nbformat": 4,
  "nbformat_minor": 0,
  "metadata": {
    "colab": {
      "name": "hello_wrold_from_colab.ipynb",
      "provenance": [],
      "collapsed_sections": [],
      "authorship_tag": "ABX9TyOQATvrRsKPRuCVLe0epyVu",
      "include_colab_link": true
    },
    "kernelspec": {
      "name": "python3",
      "display_name": "Python 3"
    }
  },
  "cells": [
    {
      "cell_type": "markdown",
      "metadata": {
        "id": "view-in-github",
        "colab_type": "text"
      },
      "source": [
        "<a href=\"https://colab.research.google.com/github/mottaquikarim/dev/blob/master/colab/hello_wrold_from_colab.ipynb\" target=\"_parent\"><img src=\"https://colab.research.google.com/assets/colab-badge.svg\" alt=\"Open In Colab\"/></a>"
      ]
    },
    {
      "cell_type": "markdown",
      "metadata": {
        "id": "jl-X78V3agb7"
      },
      "source": [
        "---\n",
        "title: \"Hello, Wrold from Colab\"\n",
        "date: 2021-01-28T04:01:51Z\n",
        "tags: [\"meta\", \"python\", \"just for fun\"]\n",
        "---\n",
        "\n",
        "{{<toc>}}\n",
        "\n",
        "> Hello, Wrold, from Google Colab!!\n",
        "\n",
        "[Here](https://colab.research.google.com/drive/1K3xuq9Ipy_iUIX_NmH5j-CP4foIVklhA?usp=sharing) is the colab doc for those following along at home).\n",
        "\n",
        "## What?\n",
        "\n",
        "This is a post composed in Google Colab as a demonstration of feasibility that blog posts can be generated from a colab notebook.\n",
        "\n",
        "In fact, any `ipynb` file is fair game - just drop it in to a particular folder and on build, it will be converted to a markdown file, \"sanitized\" and then available as a normal post on Hugo.\n",
        "\n",
        "## Why?\n",
        "\n",
        "No reason! \"Just because\".\n",
        "\n",
        "Admittedly, it probably isn't a great idea to load data from two sources (as raw markdown and also available randomly as python notebooks).\n",
        "\n",
        "Really, this is mainly a thought experiment. I've dabbled in static site generation from python notebooks before and will probably do so again.\n",
        "\n",
        "On the plus side, composing python related posts got a heck of a lot easier since Python Notebooks can/will provide the ability to add code cells and output \"for free\".\n",
        "\n",
        "Also, it _is_ kinda nice to have a web interface for composing stuff without having to go to terminal. Still, this particular approach is certifiably insane and there are definitely...easier options. Still! This is a fun thought experiment/demo! \n",
        "\n",
        "## How?\n",
        "\n",
        "A more detailed post to follow shortly but for now:\n",
        "\n",
        "- Write post in colab\n",
        "- Use colab's \"save to github\" feature to push to the correct repo and sub folder\n",
        "- Set up github workflow to process .ipynb files\n",
        "- on save to github, workflow triggers script that used `jupytext` to convert into markdown and moves to huge content folder\n",
        "- wait for normal deploy process to take effect\n",
        "- ???\n",
        "- profit.\n",
        "\n",
        "\n",
        "\n",
        "Stay tuned fam, more details to follow.\n",
        "\n"
      ]
    }
  ]
}