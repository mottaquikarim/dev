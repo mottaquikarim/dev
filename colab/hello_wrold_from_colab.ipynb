{
  "nbformat": 4,
  "nbformat_minor": 0,
  "metadata": {
    "colab": {
      "name": "hello_wrold_from_colab.ipynb",
      "provenance": [],
      "collapsed_sections": [],
      "authorship_tag": "ABX9TyNlqsK9pmR1kUbAieuMoXGB"
    },
    "kernelspec": {
      "name": "python3",
      "display_name": "Python 3"
    }
  },
  "cells": [
    {
      "cell_type": "markdown",
      "metadata": {
        "id": "jl-X78V3agb7"
      },
      "source": [
        "---\n",
        "title: \"Hello, Wrold from Colab\"\n",
        "date: 2021-01-28T04:01:51Z\n",
        "tags: [\"meta\", \"python\", \"just for fun\"]\n",
        "---\n",
        "\n",
        "{{<toc>}}\n",
        "\n",
        "> Hello, Wrold, from Google Colab!!\n",
        "\n",
        "[Here](https://colab.research.google.com/drive/1K3xuq9Ipy_iUIX_NmH5j-CP4foIVklhA?usp=sharing) is the colab doc for those following along at home).\n",
        "\n",
        "## What?\n",
        "\n",
        "This is a post composed in Google Colab as a demonstration of feasibility that blog posts can be generated from a colab notebook.\n",
        "\n",
        "In fact, any `ipynb` file is fair game - just drop it in to a particular folder and on build, it will be converted to a markdown file, \"sanitized\" and then available as a normal post on Hugo.\n",
        "\n",
        "## Why?\n",
        "\n",
        "No reason! \"Just because\".\n",
        "\n",
        "Admittedly, it probably isn't a great idea to load data from two sources (as raw markdown and also available randomly as python notebooks).\n",
        "\n",
        "Really, this is mainly a thought experiment. I've dabbled in static site generation from python notebooks before and will probably do so again.\n",
        "\n",
        "On the plus side, composing python related posts got a heck of a lot easier since Python Notebooks can/will provide the ability to add code cells and output \"for free\".\n",
        "\n",
        "Also, it _is_ kinda nice to have a web interface for composing stuff without having to go to terminal. Still, this particular approach is certifiably insane and there are definitely...easier options. Still! This is a fun thought experiment/demo! \n",
        "\n",
        "## How?\n",
        "\n",
        "A more detailed post to follow shortly but for now:\n",
        "\n",
        "- Write post in colab\n",
        "- Use colab's \"save to github\" feature to push to the correct repo and sub folder\n",
        "- Set up github workflow to process .ipynb files\n",
        "- on save to github, workflow triggers script that used `jupytext` to convert into markdown and moves to huge content folder\n",
        "- wait for normal deploy process to take effect\n",
        "- ???\n",
        "- profit.\n",
        "\n",
        "\n",
        "\n",
        "Stay tuned fam, more details to follow.\n",
        "\n"
      ]
    },
    {
      "cell_type": "markdown",
      "metadata": {
        "id": "bOBEI09MxDfx"
      },
      "source": [
        "## PS: want to load some py code? Why not!\n",
        "\n",
        "Cool bit is on colab at least, you can control which cells show output vs not.\n",
        "\n",
        "Let's start by importing a bunch of stuff."
      ]
    },
    {
      "cell_type": "code",
      "metadata": {
        "id": "LbrvGJGrwwlw"
      },
      "source": [
        "import pandas as pd\n",
        "!pip install yfinance\n",
        "import yfinance as yf\n",
        "import matplotlib.pyplot as plt\n",
        "%matplotlib inline\n",
        "import seaborn as sns"
      ],
      "execution_count": null,
      "outputs": []
    },
    {
      "cell_type": "markdown",
      "metadata": {
        "id": "cDmgJ2Rpzx0P"
      },
      "source": [
        "Ok, now time to grab a ticker and view it"
      ]
    },
    {
      "cell_type": "code",
      "metadata": {
        "id": "gCodbM66xNJO"
      },
      "source": [
        "gme = yf.Ticker(\"GME\")"
      ],
      "execution_count": 30,
      "outputs": []
    },
    {
      "cell_type": "markdown",
      "metadata": {
        "id": "2J_dqrzOz3R4"
      },
      "source": [
        "Turn it into a df and plot? Sure!"
      ]
    },
    {
      "cell_type": "code",
      "metadata": {
        "colab": {
          "base_uri": "https://localhost:8080/",
          "height": 228
        },
        "id": "hyp-jqjxxQs6",
        "outputId": "029b05b3-02ba-41a9-c3bd-4fdd6a1a909b"
      },
      "source": [
        "hist = gme.history(period=\"5d\").head()\n",
        "hist"
      ],
      "execution_count": 31,
      "outputs": [
        {
          "output_type": "execute_result",
          "data": {
            "text/html": [
              "<div>\n",
              "<style scoped>\n",
              "    .dataframe tbody tr th:only-of-type {\n",
              "        vertical-align: middle;\n",
              "    }\n",
              "\n",
              "    .dataframe tbody tr th {\n",
              "        vertical-align: top;\n",
              "    }\n",
              "\n",
              "    .dataframe thead th {\n",
              "        text-align: right;\n",
              "    }\n",
              "</style>\n",
              "<table border=\"1\" class=\"dataframe\">\n",
              "  <thead>\n",
              "    <tr style=\"text-align: right;\">\n",
              "      <th></th>\n",
              "      <th>Open</th>\n",
              "      <th>High</th>\n",
              "      <th>Low</th>\n",
              "      <th>Close</th>\n",
              "      <th>Volume</th>\n",
              "      <th>Dividends</th>\n",
              "      <th>Stock Splits</th>\n",
              "    </tr>\n",
              "    <tr>\n",
              "      <th>Date</th>\n",
              "      <th></th>\n",
              "      <th></th>\n",
              "      <th></th>\n",
              "      <th></th>\n",
              "      <th></th>\n",
              "      <th></th>\n",
              "      <th></th>\n",
              "    </tr>\n",
              "  </thead>\n",
              "  <tbody>\n",
              "    <tr>\n",
              "      <th>2021-01-22</th>\n",
              "      <td>42.590000</td>\n",
              "      <td>76.760002</td>\n",
              "      <td>42.320000</td>\n",
              "      <td>65.010002</td>\n",
              "      <td>197157900</td>\n",
              "      <td>0</td>\n",
              "      <td>0</td>\n",
              "    </tr>\n",
              "    <tr>\n",
              "      <th>2021-01-25</th>\n",
              "      <td>96.730003</td>\n",
              "      <td>159.179993</td>\n",
              "      <td>61.130001</td>\n",
              "      <td>76.790001</td>\n",
              "      <td>177874000</td>\n",
              "      <td>0</td>\n",
              "      <td>0</td>\n",
              "    </tr>\n",
              "    <tr>\n",
              "      <th>2021-01-26</th>\n",
              "      <td>88.559998</td>\n",
              "      <td>150.000000</td>\n",
              "      <td>80.199997</td>\n",
              "      <td>147.979996</td>\n",
              "      <td>178588000</td>\n",
              "      <td>0</td>\n",
              "      <td>0</td>\n",
              "    </tr>\n",
              "    <tr>\n",
              "      <th>2021-01-27</th>\n",
              "      <td>354.829987</td>\n",
              "      <td>380.000000</td>\n",
              "      <td>249.000000</td>\n",
              "      <td>347.510010</td>\n",
              "      <td>91735800</td>\n",
              "      <td>0</td>\n",
              "      <td>0</td>\n",
              "    </tr>\n",
              "    <tr>\n",
              "      <th>2021-01-28</th>\n",
              "      <td>265.000000</td>\n",
              "      <td>482.849915</td>\n",
              "      <td>126.010002</td>\n",
              "      <td>126.010002</td>\n",
              "      <td>25211430</td>\n",
              "      <td>0</td>\n",
              "      <td>0</td>\n",
              "    </tr>\n",
              "  </tbody>\n",
              "</table>\n",
              "</div>"
            ],
            "text/plain": [
              "                  Open        High  ...  Dividends  Stock Splits\n",
              "Date                                ...                         \n",
              "2021-01-22   42.590000   76.760002  ...          0             0\n",
              "2021-01-25   96.730003  159.179993  ...          0             0\n",
              "2021-01-26   88.559998  150.000000  ...          0             0\n",
              "2021-01-27  354.829987  380.000000  ...          0             0\n",
              "2021-01-28  265.000000  482.849915  ...          0             0\n",
              "\n",
              "[5 rows x 7 columns]"
            ]
          },
          "metadata": {
            "tags": []
          },
          "execution_count": 31
        }
      ]
    },
    {
      "cell_type": "code",
      "metadata": {
        "colab": {
          "base_uri": "https://localhost:8080/",
          "height": 350
        },
        "id": "lgt-hrO7yEIg",
        "outputId": "373ce288-cfa2-432d-a642-f587e89e4c44"
      },
      "source": [
        "# make pretty\n",
        "BrBG = sns.color_palette('BrBG') # pre-existing palette\n",
        "cpal = ['dodgerblue', '#2ecc71', '#bb64ed', '#ffd13b', 'xkcd:tangerine', '#fa62b7']\n",
        "sns.set_style('whitegrid')\n",
        "\n",
        "fig, ax = plt.subplots(figsize=(18, 5))\n",
        "# Line graph\n",
        "sns.lineplot(x='Date', y='High', data=hist, ci=None, ax=ax)\n",
        "# Add a title\n",
        "plt.title('GME stonks')\n",
        " \n",
        "# Customize y-axis label\n",
        "plt.ylabel('Highs')\n",
        "plt.show()"
      ],
      "execution_count": 32,
      "outputs": [
        {
          "output_type": "display_data",
          "data": {
            "image/png": "[encoded data removed]",
            "text/plain": [
              "<Figure size 1296x360 with 1 Axes>"
            ]
          },
          "metadata": {
            "tags": []
          }
        }
      ]
    }
  ]
}