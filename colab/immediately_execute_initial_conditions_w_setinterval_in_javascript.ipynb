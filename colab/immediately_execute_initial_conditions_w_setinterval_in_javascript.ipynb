{
  "nbformat": 4,
  "nbformat_minor": 0,
  "metadata": {
    "colab": {
      "name": "immediately_execute_initial_conditions_w_setinterval_in_javascript.ipynb",
      "provenance": [],
      "collapsed_sections": [],
      "authorship_tag": "ABX9TyOkFMwXD81ARD8+k1xDAt7G"
    },
    "kernelspec": {
      "name": "python3",
      "display_name": "Python 3"
    },
    "language_info": {
      "name": "python"
    }
  },
  "cells": [
    {
      "cell_type": "markdown",
      "source": [
        "---\n",
        "title: \"Immediately Execute Initial Conditions w/SetInterval in Javascipt\"\n",
        "date: 2021-01-28T04:01:51Z\n",
        "tags: [\"javascript\", \"just for fun\"]\n",
        "---\n",
        "\n",
        "{{<toc>}}\n",
        "\n",
        "I stumbled on David Welsh's [\"Immediately Executing setInterval with JavaScript\"](https://davidwalsh.name/immediate-setinterval) blog post the other day.\n",
        "\n",
        "In particular, this struck me as interesting:\n",
        "\n",
        "> If you truly want to isolate the function call to the setInterval, you can use this trick of self-executing function that returns itself:\n",
        "\n",
        "```js\n",
        "// Use a named function ...\n",
        "setInterval(function myFunction() {\n",
        "  // Do some stuff\n",
        "  // ...\n",
        "\n",
        "  // ... then return this function\n",
        "  return myFunction;\n",
        "\n",
        "// () self-executes the function\n",
        "}(), 3000)\n",
        "```\n",
        "\n",
        "> The down side to this pattern is that it causes a maintenance issue, where the next developer doesn't understand what is going on.\n",
        "> Maintenance is an important part of being a good engineer, so at the very least, documentation in the form of comments or a helper function should be required. If you really want to have a self-executing setInterval, you've got it!\n",
        "\n",
        "Great points, David! (His blog - around since ~2007 - at one point was my _go to_ resource for quality js tutorials + content).\n",
        "\n",
        "I did wonder though -- can this pattern be improved? As it turns out, yes! It can:\n",
        "\n",
        "```js\n",
        "// in js, the last item in a comma separated list is \"returned\"\n",
        "let p = (console.log('hello!'), 5)\n",
        "console.log(p)\n",
        "k = setInterval((\n",
        "    // these will run immediately!\n",
        "    console.log(\"Hello, Wrold!\"),\n",
        "    // more logic? ok let's have a func instead\n",
        "    function callMeNow() { \n",
        "        console.log('I will run immediately!', new Date())\n",
        "    }(),\n",
        "    // this is the last func, so it will be set as THE callback\n",
        "    // for setInterval\n",
        "    function onInterval() {\n",
        "        console.log('hello!', new Date())\n",
        "    }\n",
        "), 1000)\n",
        "```\n",
        "\n",
        "With this approach, we end up with the following output:\n",
        "\n",
        "```text\n",
        "> hello!\n",
        "> 5\n",
        "> Hello, Wrold!\n",
        "> I will run immediately! Mon Jan 17 2022 22:21:44 GMT-0500 (Eastern Standard Time)\n",
        "> hello! Mon Jan 17 2022 22:21:46 GMT-0500 (Eastern Standard Time)\n",
        "```\n",
        "\n",
        "Ta da!"
      ],
      "metadata": {
        "id": "kA5WywytLHsT"
      }
    }
  ]
}